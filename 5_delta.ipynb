{
 "cells": [
  {
   "cell_type": "markdown",
   "metadata": {
    "application/vnd.databricks.v1+cell": {
     "cellMetadata": {},
     "inputWidgets": {},
     "nuid": "1b0189a9-88fa-4719-855e-bd8a012ab6d8",
     "showTitle": false,
     "tableResultSettingsMap": {},
     "title": ""
    }
   },
   "source": [
    "# **DELTA LOG LEVEL SCHEMA CHANGES**"
   ]
  },
  {
   "cell_type": "code",
   "execution_count": 0,
   "metadata": {
    "application/vnd.databricks.v1+cell": {
     "cellMetadata": {
      "byteLimit": 2048000,
      "rowLimit": 10000
     },
     "inputWidgets": {},
     "nuid": "33552eff-d2be-484e-ad2b-c258b6a9f4b1",
     "showTitle": false,
     "tableResultSettingsMap": {},
     "title": ""
    }
   },
   "outputs": [
    {
     "output_type": "display_data",
     "data": {
      "text/html": [
       "<style scoped>\n",
       "  .table-result-container {\n",
       "    max-height: 300px;\n",
       "    overflow: auto;\n",
       "  }\n",
       "  table, th, td {\n",
       "    border: 1px solid black;\n",
       "    border-collapse: collapse;\n",
       "  }\n",
       "  th, td {\n",
       "    padding: 5px;\n",
       "  }\n",
       "  th {\n",
       "    text-align: left;\n",
       "  }\n",
       "</style><div class='table-result-container'><table class='table-result'><thead style='background-color: white'><tr><th>cust_id</th><th>income</th><th>name</th><th>tip</th></tr></thead><tbody><tr><td>1</td><td>100</td><td>xyz</td><td>1</td></tr><tr><td>9</td><td>200</td><td>bb</td><td>1</td></tr><tr><td>10</td><td>300</td><td>cc</td><td>1</td></tr></tbody></table></div>"
      ]
     },
     "metadata": {
      "application/vnd.databricks.v1+output": {
       "addedWidgets": {},
       "aggData": [],
       "aggError": "",
       "aggOverflow": false,
       "aggSchema": [],
       "aggSeriesLimitReached": false,
       "aggType": "",
       "arguments": {},
       "columnCustomDisplayInfos": {},
       "data": [
        [
         1,
         100,
         "xyz",
         1
        ],
        [
         9,
         200,
         "bb",
         1
        ],
        [
         10,
         300,
         "cc",
         1
        ]
       ],
       "datasetInfos": [],
       "dbfsResultPath": null,
       "isJsonSchema": true,
       "metadata": {},
       "overflow": false,
       "plotOptions": {
        "customPlotOptions": {},
        "displayType": "table",
        "pivotAggregation": null,
        "pivotColumns": null,
        "xColumns": null,
        "yColumns": null
       },
       "removedWidgets": [],
       "schema": [
        {
         "metadata": "{}",
         "name": "cust_id",
         "type": "\"long\""
        },
        {
         "metadata": "{}",
         "name": "income",
         "type": "\"long\""
        },
        {
         "metadata": "{}",
         "name": "name",
         "type": "\"string\""
        },
        {
         "metadata": "{}",
         "name": "tip",
         "type": "\"long\""
        }
       ],
       "type": "table"
      }
     },
     "output_type": "display_data"
    }
   ],
   "source": [
    "data = [(1,100,'xyz',1),(9,200,'bb',1),(10,300,'cc',1)]\n",
    "\n",
    "df = spark.createDataFrame(data, ['cust_id','income','name','tip'])\n",
    "\n",
    "display(df)\n"
   ]
  },
  {
   "cell_type": "code",
   "execution_count": 0,
   "metadata": {
    "application/vnd.databricks.v1+cell": {
     "cellMetadata": {
      "byteLimit": 2048000,
      "rowLimit": 10000
     },
     "inputWidgets": {},
     "nuid": "5887e034-f30d-4262-9715-d7253a67579c",
     "showTitle": false,
     "tableResultSettingsMap": {},
     "title": ""
    }
   },
   "outputs": [],
   "source": [
    "df.write.format(\"delta\")\\\n",
    "        .mode(\"append\")\\\n",
    "        .save(\"/Volumes/deltalakevinay/default/deltavol/schemalevel/\")"
   ]
  },
  {
   "cell_type": "code",
   "execution_count": 0,
   "metadata": {
    "application/vnd.databricks.v1+cell": {
     "cellMetadata": {},
     "inputWidgets": {},
     "nuid": "3f498f12-10cf-44fa-8574-0cfc0e207cb9",
     "showTitle": false,
     "tableResultSettingsMap": {},
     "title": ""
    }
   },
   "outputs": [],
   "source": []
  },
  {
   "cell_type": "code",
   "execution_count": 0,
   "metadata": {
    "application/vnd.databricks.v1+cell": {
     "cellMetadata": {
      "byteLimit": 2048000,
      "implicitDf": true,
      "rowLimit": 10000
     },
     "inputWidgets": {},
     "nuid": "0e34f330-709e-448b-91de-e43bae613ec2",
     "showTitle": false,
     "tableResultSettingsMap": {},
     "title": ""
    }
   },
   "outputs": [],
   "source": [
    "%sql\n",
    "-- Enable column mapping on the Delta table\n",
    "ALTER TABLE delta.`/Volumes/deltalakevinay/default/deltavol/schemalevel/`\n",
    "SET TBLPROPERTIES (\n",
    "  'delta.minReaderVersion' = '2',\n",
    "  'delta.minWriterVersion' = '5',\n",
    "  'delta.columnMapping.mode' = 'name'\n",
    ");\n",
    "\n",
    "-- Rename the column\n",
    "ALTER TABLE delta.`/Volumes/deltalakevinay/default/deltavol/schemalevel/`\n",
    "RENAME COLUMN name TO customer_name;"
   ]
  },
  {
   "cell_type": "markdown",
   "metadata": {
    "application/vnd.databricks.v1+cell": {
     "cellMetadata": {},
     "inputWidgets": {},
     "nuid": "109073bb-0b83-4ca0-a2bc-9d3535161ed4",
     "showTitle": false,
     "tableResultSettingsMap": {},
     "title": ""
    }
   },
   "source": [
    "***when schema in delta log and files are different perform above operation***"
   ]
  },
  {
   "cell_type": "code",
   "execution_count": 0,
   "metadata": {
    "application/vnd.databricks.v1+cell": {
     "cellMetadata": {
      "byteLimit": 2048000,
      "implicitDf": true,
      "rowLimit": 10000
     },
     "inputWidgets": {},
     "nuid": "898b516c-3c1f-4cff-a58a-25383ee09429",
     "showTitle": false,
     "tableResultSettingsMap": {},
     "title": ""
    }
   },
   "outputs": [
    {
     "output_type": "display_data",
     "data": {
      "text/html": [
       "<style scoped>\n",
       "  .table-result-container {\n",
       "    max-height: 300px;\n",
       "    overflow: auto;\n",
       "  }\n",
       "  table, th, td {\n",
       "    border: 1px solid black;\n",
       "    border-collapse: collapse;\n",
       "  }\n",
       "  th, td {\n",
       "    padding: 5px;\n",
       "  }\n",
       "  th {\n",
       "    text-align: left;\n",
       "  }\n",
       "</style><div class='table-result-container'><table class='table-result'><thead style='background-color: white'><tr><th>cust_id</th><th>income</th><th>customer_name</th><th>tip</th></tr></thead><tbody><tr><td>1</td><td>100</td><td>xyz</td><td>1</td></tr><tr><td>9</td><td>200</td><td>bb</td><td>1</td></tr><tr><td>10</td><td>300</td><td>cc</td><td>1</td></tr></tbody></table></div>"
      ]
     },
     "metadata": {
      "application/vnd.databricks.v1+output": {
       "addedWidgets": {},
       "aggData": [],
       "aggError": "",
       "aggOverflow": false,
       "aggSchema": [],
       "aggSeriesLimitReached": false,
       "aggType": "",
       "arguments": {},
       "columnCustomDisplayInfos": {},
       "data": [
        [
         1,
         100,
         "xyz",
         1
        ],
        [
         9,
         200,
         "bb",
         1
        ],
        [
         10,
         300,
         "cc",
         1
        ]
       ],
       "datasetInfos": [
        {
         "name": "_sqldf",
         "schema": {
          "fields": [
           {
            "metadata": {},
            "name": "cust_id",
            "nullable": true,
            "type": "long"
           },
           {
            "metadata": {},
            "name": "income",
            "nullable": true,
            "type": "long"
           },
           {
            "metadata": {},
            "name": "customer_name",
            "nullable": true,
            "type": "string"
           },
           {
            "metadata": {},
            "name": "tip",
            "nullable": true,
            "type": "long"
           }
          ],
          "type": "struct"
         },
         "tableIdentifier": null,
         "typeStr": "pyspark.sql.connect.dataframe.DataFrame"
        }
       ],
       "dbfsResultPath": null,
       "isJsonSchema": true,
       "metadata": {
        "createTempViewForImplicitDf": true,
        "dataframeName": "_sqldf",
        "executionCount": 5
       },
       "overflow": false,
       "plotOptions": {
        "customPlotOptions": {},
        "displayType": "table",
        "pivotAggregation": null,
        "pivotColumns": null,
        "xColumns": null,
        "yColumns": null
       },
       "removedWidgets": [],
       "schema": [
        {
         "metadata": "{}",
         "name": "cust_id",
         "type": "\"long\""
        },
        {
         "metadata": "{}",
         "name": "income",
         "type": "\"long\""
        },
        {
         "metadata": "{}",
         "name": "customer_name",
         "type": "\"string\""
        },
        {
         "metadata": "{}",
         "name": "tip",
         "type": "\"long\""
        }
       ],
       "type": "table"
      }
     },
     "output_type": "display_data"
    }
   ],
   "source": [
    "%sql\n",
    "SELECT * FROM delta.`/Volumes/deltalakevinay/default/deltavol/schemalevel/`"
   ]
  },
  {
   "cell_type": "code",
   "execution_count": 0,
   "metadata": {
    "application/vnd.databricks.v1+cell": {
     "cellMetadata": {
      "byteLimit": 2048000,
      "rowLimit": 10000
     },
     "inputWidgets": {},
     "nuid": "f1ed37df-c946-481f-8936-7636baaca8bb",
     "showTitle": false,
     "tableResultSettingsMap": {},
     "title": ""
    }
   },
   "outputs": [
    {
     "output_type": "display_data",
     "data": {
      "text/html": [
       "<style scoped>\n",
       "  .table-result-container {\n",
       "    max-height: 300px;\n",
       "    overflow: auto;\n",
       "  }\n",
       "  table, th, td {\n",
       "    border: 1px solid black;\n",
       "    border-collapse: collapse;\n",
       "  }\n",
       "  th, td {\n",
       "    padding: 5px;\n",
       "  }\n",
       "  th {\n",
       "    text-align: left;\n",
       "  }\n",
       "</style><div class='table-result-container'><table class='table-result'><thead style='background-color: white'><tr><th>commitInfo</th><th>metaData</th></tr></thead><tbody><tr><td>List(0722-213422-qr7k1mtq-v2n, Databricks-Runtime/16.4.x-aarch64-photon-scala2.12, true, WriteSerializable, RENAME COLUMN, List(customer_name, name), 1, 1753223560944, 70038de9-29f7-4511-b24a-b385b55c6bff, 74849561256601, vinay.pandit0398@gmail.com)</td><td>null</td></tr><tr><td>null</td><td>List(List(4, name, true), 1753223168122, List(parquet), 09a2dcba-08b8-401e-a954-a6c172e48f76, List(), {\"type\":\"struct\",\"fields\":[{\"name\":\"cust_id\",\"type\":\"long\",\"nullable\":true,\"metadata\":{\"delta.columnMapping.id\":1,\"delta.columnMapping.physicalName\":\"cust_id\"}},{\"name\":\"income\",\"type\":\"long\",\"nullable\":true,\"metadata\":{\"delta.columnMapping.id\":2,\"delta.columnMapping.physicalName\":\"income\"}},{\"name\":\"customer_name\",\"type\":\"string\",\"nullable\":true,\"metadata\":{\"delta.columnMapping.id\":3,\"delta.columnMapping.physicalName\":\"name\"}},{\"name\":\"tip\",\"type\":\"long\",\"nullable\":true,\"metadata\":{\"delta.columnMapping.id\":4,\"delta.columnMapping.physicalName\":\"tip\"}}]})</td></tr></tbody></table></div>"
      ]
     },
     "metadata": {
      "application/vnd.databricks.v1+output": {
       "addedWidgets": {},
       "aggData": [],
       "aggError": "",
       "aggOverflow": false,
       "aggSchema": [],
       "aggSeriesLimitReached": false,
       "aggType": "",
       "arguments": {},
       "columnCustomDisplayInfos": {},
       "data": [
        [
         [
          "0722-213422-qr7k1mtq-v2n",
          "Databricks-Runtime/16.4.x-aarch64-photon-scala2.12",
          true,
          "WriteSerializable",
          "RENAME COLUMN",
          [
           "customer_name",
           "name"
          ],
          1,
          1753223560944,
          "70038de9-29f7-4511-b24a-b385b55c6bff",
          "74849561256601",
          "vinay.pandit0398@gmail.com"
         ],
         null
        ],
        [
         null,
         [
          [
           "4",
           "name",
           "true"
          ],
          1753223168122,
          [
           "parquet"
          ],
          "09a2dcba-08b8-401e-a954-a6c172e48f76",
          [],
          "{\"type\":\"struct\",\"fields\":[{\"name\":\"cust_id\",\"type\":\"long\",\"nullable\":true,\"metadata\":{\"delta.columnMapping.id\":1,\"delta.columnMapping.physicalName\":\"cust_id\"}},{\"name\":\"income\",\"type\":\"long\",\"nullable\":true,\"metadata\":{\"delta.columnMapping.id\":2,\"delta.columnMapping.physicalName\":\"income\"}},{\"name\":\"customer_name\",\"type\":\"string\",\"nullable\":true,\"metadata\":{\"delta.columnMapping.id\":3,\"delta.columnMapping.physicalName\":\"name\"}},{\"name\":\"tip\",\"type\":\"long\",\"nullable\":true,\"metadata\":{\"delta.columnMapping.id\":4,\"delta.columnMapping.physicalName\":\"tip\"}}]}"
         ]
        ]
       ],
       "datasetInfos": [],
       "dbfsResultPath": null,
       "isJsonSchema": true,
       "metadata": {},
       "overflow": false,
       "plotOptions": {
        "customPlotOptions": {},
        "displayType": "table",
        "pivotAggregation": null,
        "pivotColumns": null,
        "xColumns": null,
        "yColumns": null
       },
       "removedWidgets": [],
       "schema": [
        {
         "metadata": "{}",
         "name": "commitInfo",
         "type": "{\"fields\":[{\"metadata\":{},\"name\":\"clusterId\",\"nullable\":true,\"type\":\"string\"},{\"metadata\":{},\"name\":\"engineInfo\",\"nullable\":true,\"type\":\"string\"},{\"metadata\":{},\"name\":\"isBlindAppend\",\"nullable\":true,\"type\":\"boolean\"},{\"metadata\":{},\"name\":\"isolationLevel\",\"nullable\":true,\"type\":\"string\"},{\"metadata\":{},\"name\":\"operation\",\"nullable\":true,\"type\":\"string\"},{\"metadata\":{},\"name\":\"operationParameters\",\"nullable\":true,\"type\":{\"fields\":[{\"metadata\":{},\"name\":\"newColumnPath\",\"nullable\":true,\"type\":\"string\"},{\"metadata\":{},\"name\":\"oldColumnPath\",\"nullable\":true,\"type\":\"string\"}],\"type\":\"struct\"}},{\"metadata\":{},\"name\":\"readVersion\",\"nullable\":true,\"type\":\"long\"},{\"metadata\":{},\"name\":\"timestamp\",\"nullable\":true,\"type\":\"long\"},{\"metadata\":{},\"name\":\"txnId\",\"nullable\":true,\"type\":\"string\"},{\"metadata\":{},\"name\":\"userId\",\"nullable\":true,\"type\":\"string\"},{\"metadata\":{},\"name\":\"userName\",\"nullable\":true,\"type\":\"string\"}],\"type\":\"struct\"}"
        },
        {
         "metadata": "{}",
         "name": "metaData",
         "type": "{\"fields\":[{\"metadata\":{},\"name\":\"configuration\",\"nullable\":true,\"type\":{\"fields\":[{\"metadata\":{},\"name\":\"delta.columnMapping.maxColumnId\",\"nullable\":true,\"type\":\"string\"},{\"metadata\":{},\"name\":\"delta.columnMapping.mode\",\"nullable\":true,\"type\":\"string\"},{\"metadata\":{},\"name\":\"delta.enableDeletionVectors\",\"nullable\":true,\"type\":\"string\"}],\"type\":\"struct\"}},{\"metadata\":{},\"name\":\"createdTime\",\"nullable\":true,\"type\":\"long\"},{\"metadata\":{},\"name\":\"format\",\"nullable\":true,\"type\":{\"fields\":[{\"metadata\":{},\"name\":\"provider\",\"nullable\":true,\"type\":\"string\"}],\"type\":\"struct\"}},{\"metadata\":{},\"name\":\"id\",\"nullable\":true,\"type\":\"string\"},{\"metadata\":{},\"name\":\"partitionColumns\",\"nullable\":true,\"type\":{\"containsNull\":true,\"elementType\":\"string\",\"type\":\"array\"}},{\"metadata\":{},\"name\":\"schemaString\",\"nullable\":true,\"type\":\"string\"}],\"type\":\"struct\"}"
        }
       ],
       "type": "table"
      }
     },
     "output_type": "display_data"
    }
   ],
   "source": [
    "df = spark.read.format(\"json\")\\\n",
    "            .load(\"/Volumes/deltalakevinay/default/deltavol/schemalevel/_delta_log/00000000000000000002.json\")\n",
    "df.display()"
   ]
  },
  {
   "cell_type": "code",
   "execution_count": 0,
   "metadata": {
    "application/vnd.databricks.v1+cell": {
     "cellMetadata": {},
     "inputWidgets": {},
     "nuid": "395aab0f-9a03-43ac-b6c3-233201544e9a",
     "showTitle": false,
     "tableResultSettingsMap": {},
     "title": ""
    }
   },
   "outputs": [],
   "source": []
  }
 ],
 "metadata": {
  "application/vnd.databricks.v1+notebook": {
   "computePreferences": null,
   "dashboards": [],
   "environmentMetadata": {
    "base_environment": "",
    "environment_version": "2"
   },
   "inputWidgetPreferences": null,
   "language": "python",
   "notebookMetadata": {
    "mostRecentlyExecutedCommandWithImplicitDF": {
     "commandId": 7686350191356041,
     "dataframes": [
      "_sqldf"
     ]
    },
    "pythonIndentUnit": 4
   },
   "notebookName": "5_delta",
   "widgets": {}
  },
  "language_info": {
   "name": "python"
  }
 },
 "nbformat": 4,
 "nbformat_minor": 0
}