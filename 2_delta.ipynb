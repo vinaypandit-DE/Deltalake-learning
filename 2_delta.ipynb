{
 "cells": [
  {
   "cell_type": "markdown",
   "metadata": {
    "application/vnd.databricks.v1+cell": {
     "cellMetadata": {
      "byteLimit": 2048000,
      "rowLimit": 10000
     },
     "inputWidgets": {},
     "nuid": "734bd551-6c45-45d1-943f-78ba643fb4ed",
     "showTitle": false,
     "tableResultSettingsMap": {},
     "title": ""
    }
   },
   "source": [
    "### Delta Log"
   ]
  },
  {
   "cell_type": "code",
   "execution_count": 0,
   "metadata": {
    "application/vnd.databricks.v1+cell": {
     "cellMetadata": {
      "byteLimit": 2048000,
      "rowLimit": 10000
     },
     "inputWidgets": {},
     "nuid": "3c8358c9-176a-4ad0-a5f9-d1147d623c05",
     "showTitle": false,
     "tableResultSettingsMap": {},
     "title": ""
    }
   },
   "outputs": [
    {
     "output_type": "display_data",
     "data": {
      "text/html": [
       "<style scoped>\n",
       "  .table-result-container {\n",
       "    max-height: 300px;\n",
       "    overflow: auto;\n",
       "  }\n",
       "  table, th, td {\n",
       "    border: 1px solid black;\n",
       "    border-collapse: collapse;\n",
       "  }\n",
       "  th, td {\n",
       "    padding: 5px;\n",
       "  }\n",
       "  th {\n",
       "    text-align: left;\n",
       "  }\n",
       "</style><div class='table-result-container'><table class='table-result'><thead style='background-color: white'><tr><th>id</th><th>salary</th><th>name</th></tr></thead><tbody><tr><td>1</td><td>100</td><td>aa</td></tr><tr><td>2</td><td>200</td><td>bb</td></tr><tr><td>3</td><td>300</td><td>cc</td></tr><tr><td>4</td><td>400</td><td>dd</td></tr></tbody></table></div>"
      ]
     },
     "metadata": {
      "application/vnd.databricks.v1+output": {
       "addedWidgets": {},
       "aggData": [],
       "aggError": "",
       "aggOverflow": false,
       "aggSchema": [],
       "aggSeriesLimitReached": false,
       "aggType": "",
       "arguments": {},
       "columnCustomDisplayInfos": {},
       "data": [
        [
         1,
         100,
         "aa"
        ],
        [
         2,
         200,
         "bb"
        ],
        [
         3,
         300,
         "cc"
        ],
        [
         4,
         400,
         "dd"
        ]
       ],
       "datasetInfos": [],
       "dbfsResultPath": null,
       "isJsonSchema": true,
       "metadata": {},
       "overflow": false,
       "plotOptions": {
        "customPlotOptions": {},
        "displayType": "table",
        "pivotAggregation": null,
        "pivotColumns": null,
        "xColumns": null,
        "yColumns": null
       },
       "removedWidgets": [],
       "schema": [
        {
         "metadata": "{}",
         "name": "id",
         "type": "\"long\""
        },
        {
         "metadata": "{}",
         "name": "salary",
         "type": "\"long\""
        },
        {
         "metadata": "{}",
         "name": "name",
         "type": "\"string\""
        }
       ],
       "type": "table"
      }
     },
     "output_type": "display_data"
    }
   ],
   "source": [
    "data = [(1,100,'aa'),(2,200,'bb'),(3,300,'cc'),(4,400,'dd')]\n",
    "\n",
    "df = spark.createDataFrame(data, ['id','salary','name'])\n",
    "\n",
    "display(df)"
   ]
  },
  {
   "cell_type": "code",
   "execution_count": 0,
   "metadata": {
    "application/vnd.databricks.v1+cell": {
     "cellMetadata": {
      "byteLimit": 2048000,
      "rowLimit": 10000
     },
     "inputWidgets": {},
     "nuid": "234ce116-75c1-4ec4-985a-74c189aecdd7",
     "showTitle": false,
     "tableResultSettingsMap": {},
     "title": ""
    }
   },
   "outputs": [],
   "source": [
    "df.write.format(\"delta\")\\\n",
    "        .mode(\"append\")\\\n",
    "        .save(\"/Volumes/deltalakevinay/default/deltavol/demosink/\")"
   ]
  },
  {
   "cell_type": "code",
   "execution_count": 0,
   "metadata": {
    "application/vnd.databricks.v1+cell": {
     "cellMetadata": {
      "byteLimit": 2048000,
      "rowLimit": 10000
     },
     "inputWidgets": {},
     "nuid": "8ec237cf-ef7b-4b17-9d32-18adc23b08ac",
     "showTitle": false,
     "tableResultSettingsMap": {},
     "title": ""
    }
   },
   "outputs": [
    {
     "output_type": "display_data",
     "data": {
      "text/html": [
       "<style scoped>\n",
       "  .table-result-container {\n",
       "    max-height: 300px;\n",
       "    overflow: auto;\n",
       "  }\n",
       "  table, th, td {\n",
       "    border: 1px solid black;\n",
       "    border-collapse: collapse;\n",
       "  }\n",
       "  th, td {\n",
       "    padding: 5px;\n",
       "  }\n",
       "  th {\n",
       "    text-align: left;\n",
       "  }\n",
       "</style><div class='table-result-container'><table class='table-result'><thead style='background-color: white'><tr><th>add</th><th>commitInfo</th><th>metaData</th><th>protocol</th></tr></thead><tbody><tr><td>null</td><td>List(0722-153113-nt7lendy-v2n, Databricks-Runtime/16.4.x-aarch64-photon-scala2.12, true, WriteSerializable, WRITE, List(1, 1066, 4), List(Append, [], false), List(true, false), 1753200073931, 2b55980d-e251-449e-9324-3df4c395e0dd, 74849561256601, vinay.pandit0398@gmail.com)</td><td>null</td><td>null</td></tr><tr><td>null</td><td>null</td><td>List(List(true), 1753200072721, List(parquet), 06af5565-ed84-4ffc-88df-156d34c1f167, List(), {\"type\":\"struct\",\"fields\":[{\"name\":\"id\",\"type\":\"long\",\"nullable\":true,\"metadata\":{}},{\"name\":\"salary\",\"type\":\"long\",\"nullable\":true,\"metadata\":{}},{\"name\":\"name\",\"type\":\"string\",\"nullable\":true,\"metadata\":{}}]})</td><td>null</td></tr><tr><td>null</td><td>null</td><td>null</td><td>List(3, 7, List(deletionVectors), List(deletionVectors, appendOnly, invariants))</td></tr><tr><td>List(true, 1753200074000, part-00000-9fd47001-76b9-42ae-a6ed-b9db4121cb41.c000.snappy.parquet, 1066, {\"numRecords\":4,\"minValues\":{\"id\":1,\"salary\":100,\"name\":\"aa\"},\"maxValues\":{\"id\":4,\"salary\":400,\"name\":\"dd\"},\"nullCount\":{\"id\":0,\"salary\":0,\"name\":0},\"tightBounds\":true}, List(1753200074000000, 1753200074000000, 1753200074000000, 268435456))</td><td>null</td><td>null</td><td>null</td></tr></tbody></table></div>"
      ]
     },
     "metadata": {
      "application/vnd.databricks.v1+output": {
       "addedWidgets": {},
       "aggData": [],
       "aggError": "",
       "aggOverflow": false,
       "aggSchema": [],
       "aggSeriesLimitReached": false,
       "aggType": "",
       "arguments": {},
       "columnCustomDisplayInfos": {},
       "data": [
        [
         null,
         [
          "0722-153113-nt7lendy-v2n",
          "Databricks-Runtime/16.4.x-aarch64-photon-scala2.12",
          true,
          "WriteSerializable",
          "WRITE",
          [
           "1",
           "1066",
           "4"
          ],
          [
           "Append",
           "[]",
           false
          ],
          [
           "true",
           "false"
          ],
          1753200073931,
          "2b55980d-e251-449e-9324-3df4c395e0dd",
          "74849561256601",
          "vinay.pandit0398@gmail.com"
         ],
         null,
         null
        ],
        [
         null,
         null,
         [
          [
           "true"
          ],
          1753200072721,
          [
           "parquet"
          ],
          "06af5565-ed84-4ffc-88df-156d34c1f167",
          [],
          "{\"type\":\"struct\",\"fields\":[{\"name\":\"id\",\"type\":\"long\",\"nullable\":true,\"metadata\":{}},{\"name\":\"salary\",\"type\":\"long\",\"nullable\":true,\"metadata\":{}},{\"name\":\"name\",\"type\":\"string\",\"nullable\":true,\"metadata\":{}}]}"
         ],
         null
        ],
        [
         null,
         null,
         null,
         [
          3,
          7,
          [
           "deletionVectors"
          ],
          [
           "deletionVectors",
           "appendOnly",
           "invariants"
          ]
         ]
        ],
        [
         [
          true,
          1753200074000,
          "part-00000-9fd47001-76b9-42ae-a6ed-b9db4121cb41.c000.snappy.parquet",
          1066,
          "{\"numRecords\":4,\"minValues\":{\"id\":1,\"salary\":100,\"name\":\"aa\"},\"maxValues\":{\"id\":4,\"salary\":400,\"name\":\"dd\"},\"nullCount\":{\"id\":0,\"salary\":0,\"name\":0},\"tightBounds\":true}",
          [
           "1753200074000000",
           "1753200074000000",
           "1753200074000000",
           "268435456"
          ]
         ],
         null,
         null,
         null
        ]
       ],
       "datasetInfos": [],
       "dbfsResultPath": null,
       "isJsonSchema": true,
       "metadata": {},
       "overflow": false,
       "plotOptions": {
        "customPlotOptions": {},
        "displayType": "table",
        "pivotAggregation": null,
        "pivotColumns": null,
        "xColumns": null,
        "yColumns": null
       },
       "removedWidgets": [],
       "schema": [
        {
         "metadata": "{}",
         "name": "add",
         "type": "{\"fields\":[{\"metadata\":{},\"name\":\"dataChange\",\"nullable\":true,\"type\":\"boolean\"},{\"metadata\":{},\"name\":\"modificationTime\",\"nullable\":true,\"type\":\"long\"},{\"metadata\":{},\"name\":\"path\",\"nullable\":true,\"type\":\"string\"},{\"metadata\":{},\"name\":\"size\",\"nullable\":true,\"type\":\"long\"},{\"metadata\":{},\"name\":\"stats\",\"nullable\":true,\"type\":\"string\"},{\"metadata\":{},\"name\":\"tags\",\"nullable\":true,\"type\":{\"fields\":[{\"metadata\":{},\"name\":\"INSERTION_TIME\",\"nullable\":true,\"type\":\"string\"},{\"metadata\":{},\"name\":\"MAX_INSERTION_TIME\",\"nullable\":true,\"type\":\"string\"},{\"metadata\":{},\"name\":\"MIN_INSERTION_TIME\",\"nullable\":true,\"type\":\"string\"},{\"metadata\":{},\"name\":\"OPTIMIZE_TARGET_SIZE\",\"nullable\":true,\"type\":\"string\"}],\"type\":\"struct\"}}],\"type\":\"struct\"}"
        },
        {
         "metadata": "{}",
         "name": "commitInfo",
         "type": "{\"fields\":[{\"metadata\":{},\"name\":\"clusterId\",\"nullable\":true,\"type\":\"string\"},{\"metadata\":{},\"name\":\"engineInfo\",\"nullable\":true,\"type\":\"string\"},{\"metadata\":{},\"name\":\"isBlindAppend\",\"nullable\":true,\"type\":\"boolean\"},{\"metadata\":{},\"name\":\"isolationLevel\",\"nullable\":true,\"type\":\"string\"},{\"metadata\":{},\"name\":\"operation\",\"nullable\":true,\"type\":\"string\"},{\"metadata\":{},\"name\":\"operationMetrics\",\"nullable\":true,\"type\":{\"fields\":[{\"metadata\":{},\"name\":\"numFiles\",\"nullable\":true,\"type\":\"string\"},{\"metadata\":{},\"name\":\"numOutputBytes\",\"nullable\":true,\"type\":\"string\"},{\"metadata\":{},\"name\":\"numOutputRows\",\"nullable\":true,\"type\":\"string\"}],\"type\":\"struct\"}},{\"metadata\":{},\"name\":\"operationParameters\",\"nullable\":true,\"type\":{\"fields\":[{\"metadata\":{},\"name\":\"mode\",\"nullable\":true,\"type\":\"string\"},{\"metadata\":{},\"name\":\"partitionBy\",\"nullable\":true,\"type\":\"string\"},{\"metadata\":{},\"name\":\"statsOnLoad\",\"nullable\":true,\"type\":\"boolean\"}],\"type\":\"struct\"}},{\"metadata\":{},\"name\":\"tags\",\"nullable\":true,\"type\":{\"fields\":[{\"metadata\":{},\"name\":\"noRowsCopied\",\"nullable\":true,\"type\":\"string\"},{\"metadata\":{},\"name\":\"restoresDeletedRows\",\"nullable\":true,\"type\":\"string\"}],\"type\":\"struct\"}},{\"metadata\":{},\"name\":\"timestamp\",\"nullable\":true,\"type\":\"long\"},{\"metadata\":{},\"name\":\"txnId\",\"nullable\":true,\"type\":\"string\"},{\"metadata\":{},\"name\":\"userId\",\"nullable\":true,\"type\":\"string\"},{\"metadata\":{},\"name\":\"userName\",\"nullable\":true,\"type\":\"string\"}],\"type\":\"struct\"}"
        },
        {
         "metadata": "{}",
         "name": "metaData",
         "type": "{\"fields\":[{\"metadata\":{},\"name\":\"configuration\",\"nullable\":true,\"type\":{\"fields\":[{\"metadata\":{},\"name\":\"delta.enableDeletionVectors\",\"nullable\":true,\"type\":\"string\"}],\"type\":\"struct\"}},{\"metadata\":{},\"name\":\"createdTime\",\"nullable\":true,\"type\":\"long\"},{\"metadata\":{},\"name\":\"format\",\"nullable\":true,\"type\":{\"fields\":[{\"metadata\":{},\"name\":\"provider\",\"nullable\":true,\"type\":\"string\"}],\"type\":\"struct\"}},{\"metadata\":{},\"name\":\"id\",\"nullable\":true,\"type\":\"string\"},{\"metadata\":{},\"name\":\"partitionColumns\",\"nullable\":true,\"type\":{\"containsNull\":true,\"elementType\":\"string\",\"type\":\"array\"}},{\"metadata\":{},\"name\":\"schemaString\",\"nullable\":true,\"type\":\"string\"}],\"type\":\"struct\"}"
        },
        {
         "metadata": "{}",
         "name": "protocol",
         "type": "{\"fields\":[{\"metadata\":{},\"name\":\"minReaderVersion\",\"nullable\":true,\"type\":\"long\"},{\"metadata\":{},\"name\":\"minWriterVersion\",\"nullable\":true,\"type\":\"long\"},{\"metadata\":{},\"name\":\"readerFeatures\",\"nullable\":true,\"type\":{\"containsNull\":true,\"elementType\":\"string\",\"type\":\"array\"}},{\"metadata\":{},\"name\":\"writerFeatures\",\"nullable\":true,\"type\":{\"containsNull\":true,\"elementType\":\"string\",\"type\":\"array\"}}],\"type\":\"struct\"}"
        }
       ],
       "type": "table"
      }
     },
     "output_type": "display_data"
    }
   ],
   "source": [
    "df = spark.read.format(\"json\")\\\n",
    "            .load(\"/Volumes/deltalakevinay/default/deltavol/demosink/_delta_log/00000000000000000000.json\")\n",
    "display(df)"
   ]
  },
  {
   "cell_type": "code",
   "execution_count": 0,
   "metadata": {
    "application/vnd.databricks.v1+cell": {
     "cellMetadata": {
      "byteLimit": 2048000,
      "rowLimit": 10000
     },
     "inputWidgets": {},
     "nuid": "d4862039-65df-4a3e-92a8-6b2be6775d5a",
     "showTitle": false,
     "tableResultSettingsMap": {},
     "title": ""
    }
   },
   "outputs": [],
   "source": []
  }
 ],
 "metadata": {
  "application/vnd.databricks.v1+notebook": {
   "computePreferences": null,
   "dashboards": [],
   "environmentMetadata": {
    "base_environment": "",
    "environment_version": "2"
   },
   "inputWidgetPreferences": null,
   "language": "python",
   "notebookMetadata": {
    "pythonIndentUnit": 4
   },
   "notebookName": "2_delta",
   "widgets": {}
  },
  "language_info": {
   "name": "python"
  }
 },
 "nbformat": 4,
 "nbformat_minor": 0
}